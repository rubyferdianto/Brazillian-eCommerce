{
 "cells": [
  {
   "cell_type": "markdown",
   "id": "5663792c",
   "metadata": {},
   "source": [
    "# Import CSV Files into MongoDB\n",
    "\n",
    "This notebook imports all CSV files from the `data/` folder into MongoDB collections in the `brazilian-ecommerce` database. Each CSV file will become a collection with the same name (without `.csv`)."
   ]
  },
  {
   "cell_type": "code",
   "execution_count": null,
   "id": "93506de1",
   "metadata": {},
   "outputs": [],
   "source": [
    "import os\n",
    "import glob\n",
    "import pandas as pd\n",
    "from pymongo import MongoClient\n",
    "\n",
    "# MongoDB connection settings from environment variables\n",
    "MONGO_URI = os.environ.get(\"MONGO_URI\")\n",
    "DATABASE_NAME = os.environ.get(\"DATABASE_NAME\", \"brazilian-ecommerce\")\n",
    "\n",
    "if not MONGO_URI:\n",
    "    raise ValueError(\"MONGO_URI environment variable is not set. Please set it before running this notebook.\")\n",
    "\n",
    "client = MongoClient(MONGO_URI)\n",
    "db = client[DATABASE_NAME]\n",
    "print(f\"Connected to MongoDB database: {DATABASE_NAME}\")"
   ]
  },
  {
   "cell_type": "code",
   "execution_count": null,
   "id": "493c45ff",
   "metadata": {},
   "outputs": [],
   "source": [
    "# Import all CSV files in the data/ folder as MongoDB collections\n",
    "csv_files = glob.glob(os.path.join('data', '*.csv'))\n",
    "\n",
    "for csv_path in csv_files:\n",
    "    collection_name = os.path.splitext(os.path.basename(csv_path))[0]\n",
    "    print(f\"Importing {csv_path} into collection '{collection_name}'...\")\n",
    "    df = pd.read_csv(csv_path)\n",
    "    # Convert DataFrame to dictionary records\n",
    "    records = df.to_dict(orient='records')\n",
    "    if records:\n",
    "        db[collection_name].delete_many({})  # Optional: clear existing data\n",
    "        db[collection_name].insert_many(records)\n",
    "        print(f\"Inserted {len(records)} records into '{collection_name}'\")\n",
    "    else:\n",
    "        print(f\"No records found in {csv_path}\")"
   ]
  }
 ],
 "metadata": {
  "kernelspec": {
   "display_name": ".venv",
   "language": "python",
   "name": "python3"
  },
  "language_info": {
   "name": "python",
   "version": "3.13.5"
  }
 },
 "nbformat": 4,
 "nbformat_minor": 5
}
